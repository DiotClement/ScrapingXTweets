{
  "nbformat": 4,
  "nbformat_minor": 0,
  "metadata": {
    "colab": {
      "provenance": []
    },
    "kernelspec": {
      "name": "python3",
      "display_name": "Python 3"
    },
    "language_info": {
      "name": "python"
    }
  },
  "cells": [
    {
      "cell_type": "markdown",
      "source": [
        "# Récupération de tweets selon des mot en tendances"
      ],
      "metadata": {
        "id": "hB9kki4q-p7a"
      }
    },
    {
      "cell_type": "markdown",
      "source": [
        "## Installation des dépendances"
      ],
      "metadata": {
        "id": "bkTiEYpg6w1O"
      }
    },
    {
      "cell_type": "markdown",
      "source": [
        "Installation de la librairie tweepy permettant de dialoguer avec l'api officiel de X plus intuitivement."
      ],
      "metadata": {
        "id": "n84WsUn1_9nw"
      }
    },
    {
      "cell_type": "code",
      "execution_count": null,
      "metadata": {
        "id": "DcH4_xu5xh7H"
      },
      "outputs": [],
      "source": [
        "!pip install tweepy"
      ]
    },
    {
      "cell_type": "markdown",
      "source": [
        "## Importation des bibliothèques"
      ],
      "metadata": {
        "id": "0bVKxbs171Z3"
      }
    },
    {
      "cell_type": "code",
      "source": [
        "import tweepy\n",
        "import pandas as pd"
      ],
      "metadata": {
        "id": "4FxxYB9OALrt"
      },
      "execution_count": 14,
      "outputs": []
    },
    {
      "cell_type": "markdown",
      "source": [
        "## Initialisation de la connexion avec l'api de X"
      ],
      "metadata": {
        "id": "ysTjjmMoAet2"
      }
    },
    {
      "cell_type": "code",
      "source": [
        "bearer_token = \"Le_bearer_token_fourni_par_X\"\n",
        "\n",
        "client = tweepy.Client(bearer_token)"
      ],
      "metadata": {
        "id": "PyZApl8o67-a"
      },
      "execution_count": 15,
      "outputs": []
    },
    {
      "cell_type": "markdown",
      "source": [
        "## Récupération de tweets selon un mot en tendances renseignées"
      ],
      "metadata": {
        "id": "YecYhDY1BSRh"
      }
    },
    {
      "cell_type": "markdown",
      "source": [
        "Actuellement, avec la version Basic de l'API X, nous sommes limités à un maximum de 100 tweets par mois et un minimum de 10 tweets imposés par la méthode utilisée. De plus, nous exploitons un endpoint qui ne retourne que les tweets des sept derniers jours. Enfin, nous sommes contraints à un maximum de 450 requêtes toutes les 15 minutes"
      ],
      "metadata": {
        "id": "fMa0BOX8E53B"
      }
    },
    {
      "cell_type": "code",
      "source": [
        "# Mot-clé en tendance à chercher (on peut cibler un type de langue précis)\n",
        "keyword = \"Arcane lang:en\"\n",
        "\n",
        "# Champs des tweets, utilisateurs et lieux à récupérer\n",
        "tweet_fields = [\n",
        "    \"id\", \"text\", \"created_at\", \"attachments\", \"author_id\", \"in_reply_to_user_id\",\n",
        "    \"lang\", \"possibly_sensitive\", \"context_annotations\", \"public_metrics\", \"referenced_tweets\"\n",
        "]\n",
        "user_fields = [\n",
        "    \"id\", \"name\", \"username\", \"description\", \"location\", \"public_metrics\", \"verified\"\n",
        "]\n",
        "place_fields = [\"id\", \"full_name\", \"country\"]\n",
        "\n",
        "response = client.search_recent_tweets(\n",
        "    query=keyword,\n",
        "    max_results=10,  # Nombre de tweets (limité par l'accès Basic)\n",
        "    tweet_fields=tweet_fields,\n",
        "    user_fields=user_fields,\n",
        "    place_fields=place_fields,\n",
        "    expansions=[\"author_id\", \"geo.place_id\"]  # Récupérer les informations sur les utilisateurs et lieux\n",
        ")"
      ],
      "metadata": {
        "id": "rwt_qaso9x2Z"
      },
      "execution_count": 16,
      "outputs": []
    },
    {
      "cell_type": "markdown",
      "source": [
        "## Affichage des tweets dans un dataframe"
      ],
      "metadata": {
        "id": "pdXS7eRVIVG8"
      }
    },
    {
      "cell_type": "code",
      "source": [
        "if response.data:\n",
        "    tweets_data = []\n",
        "    users_data = {user[\"id\"]: user for user in response.includes.get(\"users\", [])}\n",
        "    places_data = {place[\"id\"]: place for place in response.includes.get(\"places\", [])}\n",
        "\n",
        "    for tweet in response.data:\n",
        "        tweet_info = {\n",
        "            \"tweet_id\": tweet.id,\n",
        "            \"text\": tweet.text,\n",
        "            \"created_at\": tweet.created_at,\n",
        "            \"author_id\": tweet.author_id,\n",
        "            \"lang\": tweet.lang,\n",
        "            \"possibly_sensitive\": tweet.possibly_sensitive,\n",
        "            \"retweets\": tweet.public_metrics[\"retweet_count\"],\n",
        "            \"replies\": tweet.public_metrics[\"reply_count\"],\n",
        "            \"likes\": tweet.public_metrics[\"like_count\"],\n",
        "            \"quotes\": tweet.public_metrics[\"quote_count\"],\n",
        "        }\n",
        "\n",
        "        # Ajouter les informations sur l'auteur si disponibles\n",
        "        if tweet.author_id in users_data:\n",
        "            user = users_data[tweet.author_id]\n",
        "            tweet_info.update({\n",
        "                \"user_name\": user.name,\n",
        "                \"username\": user.username,\n",
        "                \"user_description\": user.description,\n",
        "                \"user_location\": user.location,\n",
        "                \"followers_count\": user.public_metrics[\"followers_count\"],\n",
        "                \"following_count\": user.public_metrics[\"following_count\"],\n",
        "                \"tweet_count\": user.public_metrics[\"tweet_count\"],\n",
        "                \"verified\": user.verified,\n",
        "            })\n",
        "\n",
        "        # Ajouter les informations sur le lieu si disponibles\n",
        "        if tweet.geo and tweet.geo.get(\"place_id\") in places_data:\n",
        "            place = places_data[tweet.geo[\"place_id\"]]\n",
        "            tweet_info.update({\n",
        "                \"place_name\": place.full_name,\n",
        "                \"place_country\": place.country,\n",
        "            })\n",
        "\n",
        "        tweets_data.append(tweet_info)\n",
        "\n",
        "    # Créer un DataFrame\n",
        "    df = pd.DataFrame(tweets_data)\n",
        "    print(df)\n",
        "else:\n",
        "    print(\"Aucun tweet trouvé.\")"
      ],
      "metadata": {
        "collapsed": true,
        "id": "52ACNatoGOOQ"
      },
      "execution_count": null,
      "outputs": []
    }
  ]
}